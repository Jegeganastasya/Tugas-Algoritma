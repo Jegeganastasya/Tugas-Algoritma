{
 "cells": [
  {
   "cell_type": "code",
   "execution_count": null,
   "id": "c677b7d5-c795-4386-b7b9-64e0713b067f",
   "metadata": {
    "tags": []
   },
   "outputs": [],
   "source": [
    "angka_38 = range(5)\n",
    "print(angka_38)\n",
    "for i in range(len(angka_38)):\n",
    "    print(i)"
   ]
  },
  {
   "cell_type": "code",
   "execution_count": 37,
   "id": "f289c6ea-c568-4f8e-80e5-898fbf209bfc",
   "metadata": {
    "tags": []
   },
   "outputs": [
    {
     "name": "stdout",
     "output_type": "stream",
     "text": [
      "10\n"
     ]
    }
   ],
   "source": [
    "data_38 = [1,2,3,4,5,6,7,3,8,9,10]\n",
    "terbesar = data_38[0]\n",
    "for i in data_38:\n",
    "    if i > terbesar:\n",
    "        terbesar = i\n",
    "print(terbesar)\n"
   ]
  },
  {
   "cell_type": "code",
   "execution_count": 45,
   "id": "7ae983f0-5fc1-48b5-8172-9844f643b29b",
   "metadata": {
    "tags": []
   },
   "outputs": [
    {
     "name": "stdout",
     "output_type": "stream",
     "text": [
      "2\n",
      "3\n",
      "4\n",
      "5\n",
      "6\n",
      "7\n",
      "8\n",
      "9\n",
      "10\n",
      "10\n"
     ]
    }
   ],
   "source": [
    "data_38 = [1,2,3,4,5,6,7,3,8,9,10]\n",
    "terbesar = data_38[0]\n",
    "for i in data_38:\n",
    "    if i > terbesar:\n",
    "        terbesar = i\n",
    "        print(terbesar)\n",
    "print(terbesar)"
   ]
  },
  {
   "cell_type": "code",
   "execution_count": null,
   "id": "6936414b-5d86-44eb-9938-ec6655664d20",
   "metadata": {
    "tags": []
   },
   "outputs": [],
   "source": [
    "angka_38 = [11,2,3,2,1]\n",
    "angka_unik_38 = []\n",
    "for anggota in angka_38:\n",
    "    if anggota not in angka_unik_38:\n",
    "        angka_unik_38.append(anggota)\n",
    "print(angka_unik_38)"
   ]
  },
  {
   "cell_type": "code",
   "execution_count": null,
   "id": "e5ffffb1-d156-4d0b-8590-813105805964",
   "metadata": {
    "tags": []
   },
   "outputs": [],
   "source": [
    "angka_38 = [11,2,3,2,1]\n",
    "angka_unik_38 = []\n",
    "for anggota in angka_38:\n",
    "    if anggota not in angka_unik_38:\n",
    "        angka_unik_38.append(anggota)\n",
    "print(angka_unik_38)"
   ]
  },
  {
   "cell_type": "code",
   "execution_count": 68,
   "id": "400c46e1-202f-409e-ba56-1fd9477bc394",
   "metadata": {
    "tags": []
   },
   "outputs": [
    {
     "name": "stdout",
     "output_type": "stream",
     "text": [
      "[1, 2, 3]\n",
      "1\n",
      "2\n",
      "3\n",
      "[4, 3, 4]\n",
      "4\n",
      "3\n",
      "4\n",
      "[5, 6, 7]\n",
      "5\n",
      "6\n",
      "7\n"
     ]
    }
   ],
   "source": [
    "matrik_38 = [\n",
    "    [1,2,3],\n",
    "    [4,3,4],\n",
    "    [5,6,7]\n",
    "]\n",
    "print(matrik_38)\n",
    "a_38 = matrik_38[2][-1]\n",
    "print(a_38)\n",
    "matrik_38[0]\n",
    "b_38 = matrik_38[0]\n",
    "print(b_38)\n",
    "matrik_38[1]\n",
    "print(matrik_38[1])\n",
    "matrik_38[2][0]\n",
    "print(\" \")\n",
    "for baris in matrik_38:\n",
    "    print(baris)\n",
    "    for kolom in baris:\n",
    "        print(kolom)\n",
    "print(\" \")\n",
    "print(matrik_38)\n",
    "print(matrik_38[2][0])\n",
    "matrik_38[2][0] = 9\n",
    "print(matrik_38[2][0])\n",
    "matrik_38\n"
   ]
  },
  {
   "cell_type": "code",
   "execution_count": null,
   "id": "e21fd609-fc76-42fd-829c-6e442360d591",
   "metadata": {},
   "outputs": [],
   "source": []
  },
  {
   "cell_type": "code",
   "execution_count": 2,
   "id": "47f232e0-c54a-4d42-b9b3-0d0918027eea",
   "metadata": {
    "tags": []
   },
   "outputs": [
    {
     "name": "stdout",
     "output_type": "stream",
     "text": [
      "angka 0  Adalah Bilngan bulat\n",
      "angka 2  Adalah Bilngan bulat\n",
      "angka 4  Adalah Bilngan bulat\n",
      "angka 6  Adalah Bilngan bulat\n",
      "angka 8  Adalah Bilngan bulat\n",
      "angka 10  Adalah Bilngan bulat\n",
      "angka 12  Adalah Bilngan bulat\n",
      "angka 14  Adalah Bilngan bulat\n",
      "angka 16  Adalah Bilngan bulat\n",
      "angka 18  Adalah Bilngan bulat\n"
     ]
    }
   ],
   "source": [
    "for i in range(0,20,2):\n",
    "    print(\"angka\", i, \" Adalah Bilngan bulat\")"
   ]
  },
  {
   "cell_type": "code",
   "execution_count": 6,
   "id": "b6b7c397-8eaf-4c26-a20f-ca6cdbdd00f1",
   "metadata": {
    "tags": []
   },
   "outputs": [
    {
     "name": "stdin",
     "output_type": "stream",
     "text": [
      "Masukkan berapa bulan lahirmu? 5\n"
     ]
    },
    {
     "ename": "NameError",
     "evalue": "name 'angka' is not defined",
     "output_type": "error",
     "traceback": [
      "\u001b[1;31m---------------------------------------------------------------------------\u001b[0m",
      "\u001b[1;31mNameError\u001b[0m                                 Traceback (most recent call last)",
      "Cell \u001b[1;32mIn[6], line 19\u001b[0m\n\u001b[0;32m     17\u001b[0m bulan_38 \u001b[38;5;241m=\u001b[39m \u001b[38;5;124m\"\u001b[39m\u001b[38;5;124m \u001b[39m\u001b[38;5;124m\"\u001b[39m\n\u001b[0;32m     18\u001b[0m \u001b[38;5;28;01mfor\u001b[39;00m kata \u001b[38;5;129;01min\u001b[39;00m bulan_lahir_38:\n\u001b[1;32m---> 19\u001b[0m                        bulan_38 \u001b[38;5;241m+\u001b[39m\u001b[38;5;241m=\u001b[39m angka\u001b[38;5;241m.\u001b[39mget(kata) \u001b[38;5;241m+\u001b[39m \u001b[38;5;124m\"\u001b[39m\u001b[38;5;124m \u001b[39m\u001b[38;5;124m\"\u001b[39m\n\u001b[0;32m     20\u001b[0m \u001b[38;5;28mprint\u001b[39m(bulan_38)\n",
      "\u001b[1;31mNameError\u001b[0m: name 'angka' is not defined"
     ]
    }
   ],
   "source": [
    "bulan_38 = {\n",
    "    \"1\" : \"Januari\",\n",
    "    \"2\" : \"Februari\",\n",
    "    \"3\" : \"Maret\",\n",
    "    \"4\" : \"April\",\n",
    "    \"5\" : \"Mei\",\n",
    "    \"6\" : \"Juni\",\n",
    "    \"7\" : \"Juli\",\n",
    "    \"8\" : \"Agustus\",\n",
    "    \"9\" : \"September\",\n",
    "    \"10\" : \"Oktober\", \n",
    "    \"11\" : \"November\",\n",
    "    \"12\" : \"Desember\"\n",
    "}\n",
    "\n",
    "bulan_lahir_38 = input(\"Masukkan berapa bulan lahirmu?\")\n",
    "bulan_38 = \" \"\n",
    "for kata in bulan_lahir_38:\n",
    "                       bulan_38 += angka.get(kata) + \" \"\n",
    "print(bulan_38)\n",
    "                       "
   ]
  }
 ],
 "metadata": {
  "kernelspec": {
   "display_name": "Python 3 (ipykernel)",
   "language": "python",
   "name": "python3"
  },
  "language_info": {
   "codemirror_mode": {
    "name": "ipython",
    "version": 3
   },
   "file_extension": ".py",
   "mimetype": "text/x-python",
   "name": "python",
   "nbconvert_exporter": "python",
   "pygments_lexer": "ipython3",
   "version": "3.11.7"
  }
 },
 "nbformat": 4,
 "nbformat_minor": 5
}
