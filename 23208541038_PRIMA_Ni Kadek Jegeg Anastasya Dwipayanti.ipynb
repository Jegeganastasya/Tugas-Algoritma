{
 "cells": [
  {
   "cell_type": "code",
   "execution_count": null,
   "id": "33225ecb-c38b-48db-9c4d-06e218b8beba",
   "metadata": {},
   "outputs": [],
   "source": [
    "#NIM 038 sehingga dicari range nya yaitu antara 38.000 dan 39.000\n",
    "#Bilangan prima yang ada di antara 38.000 hingga 39.000\n",
    "\n",
    "\n",
    "btatas_38 = int(input(\"Masukkan batas atas bilangan yang ingin di cek\"))\n",
    "btbawah_38 = int(input(\"Masukkan batas bawah bilangan yang ingin di cek\"))\n",
    "print(\"Bilangan prima antara {} dan {} adalah\".format(btbawah_38, btatas_38))\n",
    "\n",
    "for i in range(btbawah_38, btatas_38 + 1):\n",
    "    if i > 1:\n",
    "        for a in range(2, round(i**0.5) + 1):\n",
    "            if i%a == 0: \n",
    "                break\n",
    "        else:\n",
    "            print(i)\n",
    "        \n",
    "\n",
    "    "
   ]
  },
  {
   "cell_type": "code",
   "execution_count": null,
   "id": "e1e2ec16-3474-430d-be1f-adf368180bf2",
   "metadata": {},
   "outputs": [],
   "source": [
    "#Mencari bilangan prima\n",
    "\n",
    "n = int(input(\"Masukkan bilangan asli yang ingin di cek\"))\n",
    "n2 = round(n**0.5)\n",
    "\n",
    "\n",
    "for angka in range(2, n2 + 1):\n",
    "    if n%angka == 0: \n",
    "        print(\"{} bukan bilangan prima\".format (n))\n",
    "else:\n",
    "    print(\"{} bilangan prima\".format (n))\n",
    "    \n"
   ]
  }
 ],
 "metadata": {
  "kernelspec": {
   "display_name": "Python 3 (ipykernel)",
   "language": "python",
   "name": "python3"
  },
  "language_info": {
   "codemirror_mode": {
    "name": "ipython",
    "version": 3
   },
   "file_extension": ".py",
   "mimetype": "text/x-python",
   "name": "python",
   "nbconvert_exporter": "python",
   "pygments_lexer": "ipython3",
   "version": "3.11.7"
  }
 },
 "nbformat": 4,
 "nbformat_minor": 5
}
